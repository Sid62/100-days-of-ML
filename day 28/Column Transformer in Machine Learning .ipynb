{
 "cells": [
  {
   "cell_type": "code",
   "execution_count": 1,
   "id": "6d59387e-83c6-40a1-ae9f-95239ff40062",
   "metadata": {},
   "outputs": [],
   "source": [
    "import numpy as np\n",
    "import pandas as pd"
   ]
  },
  {
   "cell_type": "code",
   "execution_count": 2,
   "id": "10075b8f-423c-4a47-903d-f00044df7722",
   "metadata": {},
   "outputs": [],
   "source": [
    "from sklearn.impute import SimpleImputer\n",
    "from sklearn.preprocessing import OneHotEncoder\n",
    "from sklearn.preprocessing import OrdinalEncoder"
   ]
  },
  {
   "cell_type": "code",
   "execution_count": 3,
   "id": "d024bbbd-6e1e-49df-bf05-759139bd4308",
   "metadata": {},
   "outputs": [],
   "source": [
    "df=pd.read_csv('covid_toy.csv')"
   ]
  },
  {
   "cell_type": "code",
   "execution_count": 4,
   "id": "116e36aa-85bb-44b8-93da-119f43e0a6ea",
   "metadata": {},
   "outputs": [
    {
     "data": {
      "text/html": [
       "<div>\n",
       "<style scoped>\n",
       "    .dataframe tbody tr th:only-of-type {\n",
       "        vertical-align: middle;\n",
       "    }\n",
       "\n",
       "    .dataframe tbody tr th {\n",
       "        vertical-align: top;\n",
       "    }\n",
       "\n",
       "    .dataframe thead th {\n",
       "        text-align: right;\n",
       "    }\n",
       "</style>\n",
       "<table border=\"1\" class=\"dataframe\">\n",
       "  <thead>\n",
       "    <tr style=\"text-align: right;\">\n",
       "      <th></th>\n",
       "      <th>age</th>\n",
       "      <th>gender</th>\n",
       "      <th>fever</th>\n",
       "      <th>cough</th>\n",
       "      <th>city</th>\n",
       "      <th>has_covid</th>\n",
       "    </tr>\n",
       "  </thead>\n",
       "  <tbody>\n",
       "    <tr>\n",
       "      <th>0</th>\n",
       "      <td>60</td>\n",
       "      <td>Male</td>\n",
       "      <td>103.0</td>\n",
       "      <td>Mild</td>\n",
       "      <td>Kolkata</td>\n",
       "      <td>No</td>\n",
       "    </tr>\n",
       "    <tr>\n",
       "      <th>1</th>\n",
       "      <td>27</td>\n",
       "      <td>Male</td>\n",
       "      <td>100.0</td>\n",
       "      <td>Mild</td>\n",
       "      <td>Delhi</td>\n",
       "      <td>Yes</td>\n",
       "    </tr>\n",
       "    <tr>\n",
       "      <th>2</th>\n",
       "      <td>42</td>\n",
       "      <td>Male</td>\n",
       "      <td>101.0</td>\n",
       "      <td>Mild</td>\n",
       "      <td>Delhi</td>\n",
       "      <td>No</td>\n",
       "    </tr>\n",
       "    <tr>\n",
       "      <th>3</th>\n",
       "      <td>31</td>\n",
       "      <td>Female</td>\n",
       "      <td>98.0</td>\n",
       "      <td>Mild</td>\n",
       "      <td>Kolkata</td>\n",
       "      <td>No</td>\n",
       "    </tr>\n",
       "    <tr>\n",
       "      <th>4</th>\n",
       "      <td>65</td>\n",
       "      <td>Female</td>\n",
       "      <td>101.0</td>\n",
       "      <td>Mild</td>\n",
       "      <td>Mumbai</td>\n",
       "      <td>No</td>\n",
       "    </tr>\n",
       "  </tbody>\n",
       "</table>\n",
       "</div>"
      ],
      "text/plain": [
       "   age  gender  fever cough     city has_covid\n",
       "0   60    Male  103.0  Mild  Kolkata        No\n",
       "1   27    Male  100.0  Mild    Delhi       Yes\n",
       "2   42    Male  101.0  Mild    Delhi        No\n",
       "3   31  Female   98.0  Mild  Kolkata        No\n",
       "4   65  Female  101.0  Mild   Mumbai        No"
      ]
     },
     "execution_count": 4,
     "metadata": {},
     "output_type": "execute_result"
    }
   ],
   "source": [
    "df.head()"
   ]
  },
  {
   "cell_type": "code",
   "execution_count": 5,
   "id": "d7548f82-79fe-4709-81a8-7c2865320382",
   "metadata": {},
   "outputs": [
    {
     "data": {
      "text/plain": [
       "age           0\n",
       "gender        0\n",
       "fever        10\n",
       "cough         0\n",
       "city          0\n",
       "has_covid     0\n",
       "dtype: int64"
      ]
     },
     "execution_count": 5,
     "metadata": {},
     "output_type": "execute_result"
    }
   ],
   "source": [
    "df.isnull().sum()"
   ]
  },
  {
   "cell_type": "code",
   "execution_count": 6,
   "id": "8ff7705e-88bc-4195-955c-21b625b64811",
   "metadata": {},
   "outputs": [],
   "source": [
    "from sklearn.model_selection import train_test_split\n",
    "x_train,x_test,y_train,y_test=train_test_split(df.drop(columns=['has_covid']),df['has_covid'],test_size=0.2)"
   ]
  },
  {
   "cell_type": "code",
   "execution_count": 7,
   "id": "2356aeab-6c2d-48ed-81aa-dc97889e7001",
   "metadata": {},
   "outputs": [
    {
     "data": {
      "text/html": [
       "<div>\n",
       "<style scoped>\n",
       "    .dataframe tbody tr th:only-of-type {\n",
       "        vertical-align: middle;\n",
       "    }\n",
       "\n",
       "    .dataframe tbody tr th {\n",
       "        vertical-align: top;\n",
       "    }\n",
       "\n",
       "    .dataframe thead th {\n",
       "        text-align: right;\n",
       "    }\n",
       "</style>\n",
       "<table border=\"1\" class=\"dataframe\">\n",
       "  <thead>\n",
       "    <tr style=\"text-align: right;\">\n",
       "      <th></th>\n",
       "      <th>age</th>\n",
       "      <th>gender</th>\n",
       "      <th>fever</th>\n",
       "      <th>cough</th>\n",
       "      <th>city</th>\n",
       "    </tr>\n",
       "  </thead>\n",
       "  <tbody>\n",
       "    <tr>\n",
       "      <th>2</th>\n",
       "      <td>42</td>\n",
       "      <td>Male</td>\n",
       "      <td>101.0</td>\n",
       "      <td>Mild</td>\n",
       "      <td>Delhi</td>\n",
       "    </tr>\n",
       "    <tr>\n",
       "      <th>89</th>\n",
       "      <td>46</td>\n",
       "      <td>Male</td>\n",
       "      <td>103.0</td>\n",
       "      <td>Strong</td>\n",
       "      <td>Bangalore</td>\n",
       "    </tr>\n",
       "    <tr>\n",
       "      <th>45</th>\n",
       "      <td>72</td>\n",
       "      <td>Male</td>\n",
       "      <td>99.0</td>\n",
       "      <td>Mild</td>\n",
       "      <td>Bangalore</td>\n",
       "    </tr>\n",
       "    <tr>\n",
       "      <th>25</th>\n",
       "      <td>23</td>\n",
       "      <td>Male</td>\n",
       "      <td>NaN</td>\n",
       "      <td>Mild</td>\n",
       "      <td>Mumbai</td>\n",
       "    </tr>\n",
       "    <tr>\n",
       "      <th>22</th>\n",
       "      <td>71</td>\n",
       "      <td>Female</td>\n",
       "      <td>98.0</td>\n",
       "      <td>Strong</td>\n",
       "      <td>Kolkata</td>\n",
       "    </tr>\n",
       "    <tr>\n",
       "      <th>...</th>\n",
       "      <td>...</td>\n",
       "      <td>...</td>\n",
       "      <td>...</td>\n",
       "      <td>...</td>\n",
       "      <td>...</td>\n",
       "    </tr>\n",
       "    <tr>\n",
       "      <th>77</th>\n",
       "      <td>8</td>\n",
       "      <td>Female</td>\n",
       "      <td>101.0</td>\n",
       "      <td>Mild</td>\n",
       "      <td>Kolkata</td>\n",
       "    </tr>\n",
       "    <tr>\n",
       "      <th>11</th>\n",
       "      <td>65</td>\n",
       "      <td>Female</td>\n",
       "      <td>98.0</td>\n",
       "      <td>Mild</td>\n",
       "      <td>Mumbai</td>\n",
       "    </tr>\n",
       "    <tr>\n",
       "      <th>47</th>\n",
       "      <td>18</td>\n",
       "      <td>Female</td>\n",
       "      <td>104.0</td>\n",
       "      <td>Mild</td>\n",
       "      <td>Bangalore</td>\n",
       "    </tr>\n",
       "    <tr>\n",
       "      <th>17</th>\n",
       "      <td>40</td>\n",
       "      <td>Female</td>\n",
       "      <td>98.0</td>\n",
       "      <td>Strong</td>\n",
       "      <td>Delhi</td>\n",
       "    </tr>\n",
       "    <tr>\n",
       "      <th>58</th>\n",
       "      <td>23</td>\n",
       "      <td>Male</td>\n",
       "      <td>98.0</td>\n",
       "      <td>Strong</td>\n",
       "      <td>Mumbai</td>\n",
       "    </tr>\n",
       "  </tbody>\n",
       "</table>\n",
       "<p>80 rows × 5 columns</p>\n",
       "</div>"
      ],
      "text/plain": [
       "    age  gender  fever   cough       city\n",
       "2    42    Male  101.0    Mild      Delhi\n",
       "89   46    Male  103.0  Strong  Bangalore\n",
       "45   72    Male   99.0    Mild  Bangalore\n",
       "25   23    Male    NaN    Mild     Mumbai\n",
       "22   71  Female   98.0  Strong    Kolkata\n",
       "..  ...     ...    ...     ...        ...\n",
       "77    8  Female  101.0    Mild    Kolkata\n",
       "11   65  Female   98.0    Mild     Mumbai\n",
       "47   18  Female  104.0    Mild  Bangalore\n",
       "17   40  Female   98.0  Strong      Delhi\n",
       "58   23    Male   98.0  Strong     Mumbai\n",
       "\n",
       "[80 rows x 5 columns]"
      ]
     },
     "execution_count": 7,
     "metadata": {},
     "output_type": "execute_result"
    }
   ],
   "source": [
    "x_train"
   ]
  },
  {
   "cell_type": "markdown",
   "id": "304e8f36-3a12-444c-bd80-0b7b34f6b55a",
   "metadata": {},
   "source": [
    "# Aam Jindagi"
   ]
  },
  {
   "cell_type": "code",
   "execution_count": 8,
   "id": "a472cf3d-cfa9-404f-a7b0-377ca90bbf01",
   "metadata": {},
   "outputs": [
    {
     "data": {
      "text/plain": [
       "(80, 1)"
      ]
     },
     "execution_count": 8,
     "metadata": {},
     "output_type": "execute_result"
    }
   ],
   "source": [
    "si=SimpleImputer()\n",
    "x_train_fever=si.fit_transform(x_train[['fever']])\n",
    "x_test_fever=si.fit_transform(x_test[['fever']])\n",
    "x_train_fever.shape"
   ]
  },
  {
   "cell_type": "code",
   "execution_count": 9,
   "id": "fde6dbae-6223-4568-b00f-8d025784fbfe",
   "metadata": {},
   "outputs": [
    {
     "data": {
      "text/plain": [
       "array([[101. ],\n",
       "       [103. ],\n",
       "       [ 99. ],\n",
       "       [100.9],\n",
       "       [ 98. ],\n",
       "       [104. ],\n",
       "       [101. ],\n",
       "       [101. ],\n",
       "       [101. ],\n",
       "       [ 98. ],\n",
       "       [100. ],\n",
       "       [100. ],\n",
       "       [100.9],\n",
       "       [101. ],\n",
       "       [ 98. ],\n",
       "       [101. ],\n",
       "       [100. ],\n",
       "       [ 98. ],\n",
       "       [ 98. ],\n",
       "       [100. ],\n",
       "       [100.9],\n",
       "       [100. ],\n",
       "       [102. ],\n",
       "       [100.9],\n",
       "       [103. ],\n",
       "       [ 98. ],\n",
       "       [104. ],\n",
       "       [101. ],\n",
       "       [100.9],\n",
       "       [104. ],\n",
       "       [102. ],\n",
       "       [102. ],\n",
       "       [104. ],\n",
       "       [100.9],\n",
       "       [104. ],\n",
       "       [103. ],\n",
       "       [101. ],\n",
       "       [102. ],\n",
       "       [103. ],\n",
       "       [100. ],\n",
       "       [104. ],\n",
       "       [ 99. ],\n",
       "       [ 99. ],\n",
       "       [103. ],\n",
       "       [100. ],\n",
       "       [104. ],\n",
       "       [102. ],\n",
       "       [100. ],\n",
       "       [ 99. ],\n",
       "       [101. ],\n",
       "       [100.9],\n",
       "       [ 98. ],\n",
       "       [104. ],\n",
       "       [102. ],\n",
       "       [ 98. ],\n",
       "       [101. ],\n",
       "       [100. ],\n",
       "       [104. ],\n",
       "       [100.9],\n",
       "       [ 98. ],\n",
       "       [100. ],\n",
       "       [ 98. ],\n",
       "       [101. ],\n",
       "       [100.9],\n",
       "       [101. ],\n",
       "       [100.9],\n",
       "       [ 98. ],\n",
       "       [104. ],\n",
       "       [104. ],\n",
       "       [102. ],\n",
       "       [ 98. ],\n",
       "       [104. ],\n",
       "       [ 99. ],\n",
       "       [103. ],\n",
       "       [101. ],\n",
       "       [101. ],\n",
       "       [ 98. ],\n",
       "       [104. ],\n",
       "       [ 98. ],\n",
       "       [ 98. ]])"
      ]
     },
     "execution_count": 9,
     "metadata": {},
     "output_type": "execute_result"
    }
   ],
   "source": [
    "x_train_fever\n"
   ]
  },
  {
   "cell_type": "markdown",
   "id": "02e21aa7-ecdc-4d5b-9e8e-303288be87b6",
   "metadata": {},
   "source": [
    "# Ordinal Encoding -> cough"
   ]
  },
  {
   "cell_type": "code",
   "execution_count": 10,
   "id": "84167b5a-0fee-4e64-ac16-8684f092306e",
   "metadata": {},
   "outputs": [
    {
     "data": {
      "text/plain": [
       "(80, 1)"
      ]
     },
     "execution_count": 10,
     "metadata": {},
     "output_type": "execute_result"
    }
   ],
   "source": [
    "oe= OrdinalEncoder(categories=[['Mild','Strong']])\n",
    "x_train_cough=oe.fit_transform(x_train[['cough']])\n",
    "\n",
    "x_test_cough=oe.fit_transform(x_test[['cough']])\n",
    "\n",
    "x_train_cough.shape"
   ]
  },
  {
   "cell_type": "markdown",
   "id": "dbc8bd93-5615-4476-8246-531ad32c96b5",
   "metadata": {},
   "source": [
    "# OneHot Encoding -> city, gender"
   ]
  },
  {
   "cell_type": "code",
   "execution_count": 11,
   "id": "ff9288b6-d9e3-43fe-b467-8b89ec1a997e",
   "metadata": {},
   "outputs": [
    {
     "data": {
      "text/plain": [
       "(80, 4)"
      ]
     },
     "execution_count": 11,
     "metadata": {},
     "output_type": "execute_result"
    }
   ],
   "source": [
    "ohe= OneHotEncoder(drop='first', sparse_output=False)\n",
    "x_train_gender_city=ohe.fit_transform(x_train[['gender','city']])\n",
    "\n",
    "#also on test data\n",
    "x_test_gender_city=ohe.fit_transform(x_test[['gender','city']])\n",
    "\n",
    "x_train_gender_city.shape"
   ]
  },
  {
   "cell_type": "code",
   "execution_count": 12,
   "id": "d97c09b1-2240-4beb-87ff-466e1a8b6b95",
   "metadata": {},
   "outputs": [
    {
     "name": "stdout",
     "output_type": "stream",
     "text": [
      "1.5.1\n"
     ]
    }
   ],
   "source": [
    "import sklearn\n",
    "print(sklearn.__version__)\n"
   ]
  },
  {
   "cell_type": "code",
   "execution_count": null,
   "id": "bcb8f8f1-0414-4465-8548-076444bdc545",
   "metadata": {},
   "outputs": [],
   "source": [
    "\n"
   ]
  },
  {
   "cell_type": "code",
   "execution_count": 13,
   "id": "768baa99-5172-4cc9-b102-d5d5e8a4c8cf",
   "metadata": {},
   "outputs": [
    {
     "data": {
      "text/plain": [
       "(80, 1)"
      ]
     },
     "execution_count": 13,
     "metadata": {},
     "output_type": "execute_result"
    }
   ],
   "source": [
    "# extracting age\n",
    "x_train_age= x_train.drop(columns=['gender','fever','cough','city']).values\n",
    "\n",
    "x_test_age= x_test.drop(columns=['gender','fever','cough','city']).values\n",
    "\n",
    "x_train_age.shape\n"
   ]
  },
  {
   "cell_type": "code",
   "execution_count": 14,
   "id": "d3a7956e-53b3-429b-9c3b-8afc5400b03d",
   "metadata": {},
   "outputs": [
    {
     "data": {
      "text/plain": [
       "array([[ 42. , 101. ,   1. ,   1. ,   0. ,   0. ,   0. ],\n",
       "       [ 46. , 103. ,   1. ,   0. ,   0. ,   0. ,   1. ],\n",
       "       [ 72. ,  99. ,   1. ,   0. ,   0. ,   0. ,   0. ],\n",
       "       [ 23. , 100.9,   1. ,   0. ,   0. ,   1. ,   0. ],\n",
       "       [ 71. ,  98. ,   0. ,   0. ,   1. ,   0. ,   1. ],\n",
       "       [ 12. , 104. ,   0. ,   0. ,   0. ,   0. ,   0. ],\n",
       "       [ 81. , 101. ,   0. ,   0. ,   0. ,   1. ,   0. ],\n",
       "       [ 34. , 101. ,   0. ,   1. ,   0. ,   0. ,   1. ],\n",
       "       [ 47. , 101. ,   1. ,   0. ,   0. ,   0. ,   1. ],\n",
       "       [ 83. ,  98. ,   1. ,   1. ,   0. ,   0. ,   0. ],\n",
       "       [ 19. , 100. ,   0. ,   0. ,   0. ,   0. ,   1. ],\n",
       "       [ 47. , 100. ,   0. ,   0. ,   0. ,   0. ,   1. ],\n",
       "       [ 42. , 100.9,   0. ,   0. ,   0. ,   0. ,   1. ],\n",
       "       [ 20. , 101. ,   0. ,   0. ,   0. ,   0. ,   0. ],\n",
       "       [ 24. ,  98. ,   1. ,   0. ,   1. ,   0. ,   0. ],\n",
       "       [ 19. , 101. ,   1. ,   1. ,   0. ,   0. ,   0. ],\n",
       "       [ 27. , 100. ,   1. ,   1. ,   0. ,   0. ,   0. ],\n",
       "       [ 34. ,  98. ,   1. ,   0. ,   1. ,   0. ,   1. ],\n",
       "       [ 81. ,  98. ,   0. ,   0. ,   0. ,   1. ,   1. ],\n",
       "       [ 80. , 100. ,   1. ,   0. ,   0. ,   0. ,   0. ],\n",
       "       [ 79. , 100.9,   1. ,   0. ,   1. ,   0. ,   1. ],\n",
       "       [ 27. , 100. ,   1. ,   0. ,   1. ,   0. ,   0. ],\n",
       "       [ 64. , 102. ,   1. ,   0. ,   0. ,   0. ,   0. ],\n",
       "       [ 75. , 100.9,   0. ,   1. ,   0. ,   0. ,   0. ],\n",
       "       [ 16. , 103. ,   0. ,   0. ,   0. ,   0. ,   0. ],\n",
       "       [ 26. ,  98. ,   0. ,   0. ,   1. ,   0. ,   0. ],\n",
       "       [ 25. , 104. ,   1. ,   0. ,   0. ,   0. ,   0. ],\n",
       "       [ 64. , 101. ,   0. ,   1. ,   0. ,   0. ,   0. ],\n",
       "       [ 84. , 100.9,   0. ,   0. ,   0. ,   0. ,   0. ],\n",
       "       [ 34. , 104. ,   0. ,   1. ,   0. ,   0. ,   1. ],\n",
       "       [ 69. , 102. ,   0. ,   0. ,   0. ,   0. ,   0. ],\n",
       "       [ 82. , 102. ,   0. ,   0. ,   0. ,   0. ,   1. ],\n",
       "       [ 54. , 104. ,   0. ,   0. ,   1. ,   0. ,   1. ],\n",
       "       [ 82. , 100.9,   1. ,   0. ,   1. ,   0. ,   0. ],\n",
       "       [ 42. , 104. ,   1. ,   0. ,   0. ,   1. ,   0. ],\n",
       "       [ 50. , 103. ,   0. ,   0. ,   1. ,   0. ,   0. ],\n",
       "       [ 14. , 101. ,   1. ,   0. ,   0. ,   0. ,   1. ],\n",
       "       [ 74. , 102. ,   1. ,   0. ,   0. ,   1. ,   0. ],\n",
       "       [ 60. , 103. ,   1. ,   0. ,   1. ,   0. ,   0. ],\n",
       "       [ 19. , 100. ,   0. ,   0. ,   1. ,   0. ,   0. ],\n",
       "       [ 51. , 104. ,   1. ,   0. ,   1. ,   0. ,   0. ],\n",
       "       [ 65. ,  99. ,   1. ,   0. ,   0. ,   0. ,   0. ],\n",
       "       [ 49. ,  99. ,   0. ,   0. ,   0. ,   0. ,   1. ],\n",
       "       [ 83. , 103. ,   1. ,   0. ,   1. ,   0. ,   0. ],\n",
       "       [ 11. , 100. ,   1. ,   0. ,   0. ,   0. ,   0. ],\n",
       "       [ 44. , 104. ,   1. ,   0. ,   0. ,   1. ,   0. ],\n",
       "       [ 82. , 102. ,   0. ,   0. ,   1. ,   0. ,   1. ],\n",
       "       [  5. , 100. ,   0. ,   0. ,   1. ,   0. ,   0. ],\n",
       "       [ 22. ,  99. ,   0. ,   0. ,   0. ,   0. ,   0. ],\n",
       "       [ 65. , 101. ,   0. ,   0. ,   0. ,   1. ,   0. ],\n",
       "       [ 34. , 100.9,   0. ,   0. ,   0. ,   1. ,   1. ],\n",
       "       [ 73. ,  98. ,   1. ,   0. ,   0. ,   0. ,   0. ],\n",
       "       [ 16. , 104. ,   1. ,   0. ,   1. ,   0. ,   0. ],\n",
       "       [ 20. , 102. ,   1. ,   1. ,   0. ,   0. ,   1. ],\n",
       "       [  5. ,  98. ,   0. ,   0. ,   0. ,   1. ,   1. ],\n",
       "       [ 15. , 101. ,   1. ,   1. ,   0. ,   0. ,   0. ],\n",
       "       [ 10. , 100. ,   1. ,   0. ,   0. ,   0. ,   0. ],\n",
       "       [  6. , 104. ,   0. ,   0. ,   1. ,   0. ,   0. ],\n",
       "       [ 38. , 100.9,   1. ,   1. ,   0. ,   0. ,   0. ],\n",
       "       [ 31. ,  98. ,   0. ,   0. ,   1. ,   0. ,   0. ],\n",
       "       [ 55. , 100. ,   1. ,   0. ,   1. ,   0. ,   0. ],\n",
       "       [ 80. ,  98. ,   0. ,   1. ,   0. ,   0. ,   0. ],\n",
       "       [ 68. , 101. ,   0. ,   1. ,   0. ,   0. ,   1. ],\n",
       "       [ 20. , 100.9,   0. ,   0. ,   0. ,   1. ,   1. ],\n",
       "       [ 51. , 101. ,   0. ,   0. ,   1. ,   0. ,   1. ],\n",
       "       [ 71. , 100.9,   1. ,   0. ,   1. ,   0. ,   1. ],\n",
       "       [ 10. ,  98. ,   0. ,   0. ,   1. ,   0. ,   1. ],\n",
       "       [ 51. , 104. ,   1. ,   0. ,   0. ,   0. ,   0. ],\n",
       "       [ 75. , 104. ,   0. ,   1. ,   0. ,   0. ,   1. ],\n",
       "       [  5. , 102. ,   1. ,   0. ,   1. ,   0. ,   0. ],\n",
       "       [ 69. ,  98. ,   0. ,   0. ,   0. ,   1. ,   1. ],\n",
       "       [ 56. , 104. ,   0. ,   0. ,   0. ,   0. ,   1. ],\n",
       "       [ 14. ,  99. ,   0. ,   0. ,   0. ,   1. ,   0. ],\n",
       "       [ 48. , 103. ,   0. ,   0. ,   1. ,   0. ,   0. ],\n",
       "       [ 19. , 101. ,   0. ,   0. ,   0. ,   1. ,   0. ],\n",
       "       [  8. , 101. ,   0. ,   0. ,   1. ,   0. ,   0. ],\n",
       "       [ 65. ,  98. ,   0. ,   0. ,   0. ,   1. ,   0. ],\n",
       "       [ 18. , 104. ,   0. ,   0. ,   0. ,   0. ,   0. ],\n",
       "       [ 40. ,  98. ,   0. ,   1. ,   0. ,   0. ,   1. ],\n",
       "       [ 23. ,  98. ,   1. ,   0. ,   0. ,   1. ,   1. ]])"
      ]
     },
     "execution_count": 14,
     "metadata": {},
     "output_type": "execute_result"
    }
   ],
   "source": [
    "x_train_transformed= np.concatenate((x_train_age,x_train_fever,x_train_gender_city,x_train_cough),axis=1)\n",
    "\n",
    "x_test_transformed= np.concatenate((x_test_age,x_test_fever,x_test_gender_city,x_test_cough),axis=1)\n",
    "\n",
    "x_train_transformed"
   ]
  },
  {
   "cell_type": "markdown",
   "id": "0487c4c6-a605-423d-a10d-db781e16d478",
   "metadata": {},
   "source": [
    "# Mentos Jindagi"
   ]
  },
  {
   "cell_type": "code",
   "execution_count": null,
   "id": "86a44c32-16c1-496f-9352-2bcb592ef21d",
   "metadata": {},
   "outputs": [],
   "source": [
    "\n"
   ]
  },
  {
   "cell_type": "code",
   "execution_count": 15,
   "id": "82193c0c-29fa-4af5-988f-f0f63892660f",
   "metadata": {},
   "outputs": [
    {
     "name": "stdout",
     "output_type": "stream",
     "text": [
      "1.5.1\n"
     ]
    }
   ],
   "source": [
    "import sklearn\n",
    "print(sklearn.__version__)\n"
   ]
  },
  {
   "cell_type": "code",
   "execution_count": 16,
   "id": "34697058-a41f-4f3f-88fd-8c722c3eeb39",
   "metadata": {},
   "outputs": [],
   "source": [
    "from sklearn.compose import ColumnTransformer\n"
   ]
  },
  {
   "cell_type": "code",
   "execution_count": 20,
   "id": "bd1b10e9-b4e0-447c-b27a-6ee9df19be09",
   "metadata": {},
   "outputs": [],
   "source": [
    "transformer= ColumnTransformer(transformers=[\n",
    "    ('tnf1', SimpleImputer(),['fever']),\n",
    "    ('tnf2', OrdinalEncoder(categories=[['Mild','Strong']]),['cough']),\n",
    "    ('tnf3', OneHotEncoder(sparse_output=False, drop='first'),['gender','city'])\n",
    "], remainder='passthrough' )\n",
    "     "
   ]
  },
  {
   "cell_type": "code",
   "execution_count": 21,
   "id": "aea990b9-055f-4a05-b6ab-6e1ba9373fe9",
   "metadata": {},
   "outputs": [
    {
     "data": {
      "text/plain": [
       "(80, 7)"
      ]
     },
     "execution_count": 21,
     "metadata": {},
     "output_type": "execute_result"
    }
   ],
   "source": [
    "transformer.fit_transform(x_train).shape"
   ]
  },
  {
   "cell_type": "code",
   "execution_count": 22,
   "id": "232b9197-d580-4e36-b2c9-2cbaa98034b7",
   "metadata": {},
   "outputs": [
    {
     "data": {
      "text/plain": [
       "array([[101. ,   0. ,   1. ,   1. ,   0. ,   0. ,  42. ],\n",
       "       [103. ,   1. ,   1. ,   0. ,   0. ,   0. ,  46. ],\n",
       "       [ 99. ,   0. ,   1. ,   0. ,   0. ,   0. ,  72. ],\n",
       "       [100.9,   0. ,   1. ,   0. ,   0. ,   1. ,  23. ],\n",
       "       [ 98. ,   1. ,   0. ,   0. ,   1. ,   0. ,  71. ],\n",
       "       [104. ,   0. ,   0. ,   0. ,   0. ,   0. ,  12. ],\n",
       "       [101. ,   0. ,   0. ,   0. ,   0. ,   1. ,  81. ],\n",
       "       [101. ,   1. ,   0. ,   1. ,   0. ,   0. ,  34. ],\n",
       "       [101. ,   1. ,   1. ,   0. ,   0. ,   0. ,  47. ],\n",
       "       [ 98. ,   0. ,   1. ,   1. ,   0. ,   0. ,  83. ],\n",
       "       [100. ,   1. ,   0. ,   0. ,   0. ,   0. ,  19. ],\n",
       "       [100. ,   1. ,   0. ,   0. ,   0. ,   0. ,  47. ],\n",
       "       [100.9,   1. ,   0. ,   0. ,   0. ,   0. ,  42. ],\n",
       "       [101. ,   0. ,   0. ,   0. ,   0. ,   0. ,  20. ],\n",
       "       [ 98. ,   0. ,   1. ,   0. ,   1. ,   0. ,  24. ],\n",
       "       [101. ,   0. ,   1. ,   1. ,   0. ,   0. ,  19. ],\n",
       "       [100. ,   0. ,   1. ,   1. ,   0. ,   0. ,  27. ],\n",
       "       [ 98. ,   1. ,   1. ,   0. ,   1. ,   0. ,  34. ],\n",
       "       [ 98. ,   1. ,   0. ,   0. ,   0. ,   1. ,  81. ],\n",
       "       [100. ,   0. ,   1. ,   0. ,   0. ,   0. ,  80. ],\n",
       "       [100.9,   1. ,   1. ,   0. ,   1. ,   0. ,  79. ],\n",
       "       [100. ,   0. ,   1. ,   0. ,   1. ,   0. ,  27. ],\n",
       "       [102. ,   0. ,   1. ,   0. ,   0. ,   0. ,  64. ],\n",
       "       [100.9,   0. ,   0. ,   1. ,   0. ,   0. ,  75. ],\n",
       "       [103. ,   0. ,   0. ,   0. ,   0. ,   0. ,  16. ],\n",
       "       [ 98. ,   0. ,   0. ,   0. ,   1. ,   0. ,  26. ],\n",
       "       [104. ,   0. ,   1. ,   0. ,   0. ,   0. ,  25. ],\n",
       "       [101. ,   0. ,   0. ,   1. ,   0. ,   0. ,  64. ],\n",
       "       [100.9,   0. ,   0. ,   0. ,   0. ,   0. ,  84. ],\n",
       "       [104. ,   1. ,   0. ,   1. ,   0. ,   0. ,  34. ],\n",
       "       [102. ,   0. ,   0. ,   0. ,   0. ,   0. ,  69. ],\n",
       "       [102. ,   1. ,   0. ,   0. ,   0. ,   0. ,  82. ],\n",
       "       [104. ,   1. ,   0. ,   0. ,   1. ,   0. ,  54. ],\n",
       "       [100.9,   0. ,   1. ,   0. ,   1. ,   0. ,  82. ],\n",
       "       [104. ,   0. ,   1. ,   0. ,   0. ,   1. ,  42. ],\n",
       "       [103. ,   0. ,   0. ,   0. ,   1. ,   0. ,  50. ],\n",
       "       [101. ,   1. ,   1. ,   0. ,   0. ,   0. ,  14. ],\n",
       "       [102. ,   0. ,   1. ,   0. ,   0. ,   1. ,  74. ],\n",
       "       [103. ,   0. ,   1. ,   0. ,   1. ,   0. ,  60. ],\n",
       "       [100. ,   0. ,   0. ,   0. ,   1. ,   0. ,  19. ],\n",
       "       [104. ,   0. ,   1. ,   0. ,   1. ,   0. ,  51. ],\n",
       "       [ 99. ,   0. ,   1. ,   0. ,   0. ,   0. ,  65. ],\n",
       "       [ 99. ,   1. ,   0. ,   0. ,   0. ,   0. ,  49. ],\n",
       "       [103. ,   0. ,   1. ,   0. ,   1. ,   0. ,  83. ],\n",
       "       [100. ,   0. ,   1. ,   0. ,   0. ,   0. ,  11. ],\n",
       "       [104. ,   0. ,   1. ,   0. ,   0. ,   1. ,  44. ],\n",
       "       [102. ,   1. ,   0. ,   0. ,   1. ,   0. ,  82. ],\n",
       "       [100. ,   0. ,   0. ,   0. ,   1. ,   0. ,   5. ],\n",
       "       [ 99. ,   0. ,   0. ,   0. ,   0. ,   0. ,  22. ],\n",
       "       [101. ,   0. ,   0. ,   0. ,   0. ,   1. ,  65. ],\n",
       "       [100.9,   1. ,   0. ,   0. ,   0. ,   1. ,  34. ],\n",
       "       [ 98. ,   0. ,   1. ,   0. ,   0. ,   0. ,  73. ],\n",
       "       [104. ,   0. ,   1. ,   0. ,   1. ,   0. ,  16. ],\n",
       "       [102. ,   1. ,   1. ,   1. ,   0. ,   0. ,  20. ],\n",
       "       [ 98. ,   1. ,   0. ,   0. ,   0. ,   1. ,   5. ],\n",
       "       [101. ,   0. ,   1. ,   1. ,   0. ,   0. ,  15. ],\n",
       "       [100. ,   0. ,   1. ,   0. ,   0. ,   0. ,  10. ],\n",
       "       [104. ,   0. ,   0. ,   0. ,   1. ,   0. ,   6. ],\n",
       "       [100.9,   0. ,   1. ,   1. ,   0. ,   0. ,  38. ],\n",
       "       [ 98. ,   0. ,   0. ,   0. ,   1. ,   0. ,  31. ],\n",
       "       [100. ,   0. ,   1. ,   0. ,   1. ,   0. ,  55. ],\n",
       "       [ 98. ,   0. ,   0. ,   1. ,   0. ,   0. ,  80. ],\n",
       "       [101. ,   1. ,   0. ,   1. ,   0. ,   0. ,  68. ],\n",
       "       [100.9,   1. ,   0. ,   0. ,   0. ,   1. ,  20. ],\n",
       "       [101. ,   1. ,   0. ,   0. ,   1. ,   0. ,  51. ],\n",
       "       [100.9,   1. ,   1. ,   0. ,   1. ,   0. ,  71. ],\n",
       "       [ 98. ,   1. ,   0. ,   0. ,   1. ,   0. ,  10. ],\n",
       "       [104. ,   0. ,   1. ,   0. ,   0. ,   0. ,  51. ],\n",
       "       [104. ,   1. ,   0. ,   1. ,   0. ,   0. ,  75. ],\n",
       "       [102. ,   0. ,   1. ,   0. ,   1. ,   0. ,   5. ],\n",
       "       [ 98. ,   1. ,   0. ,   0. ,   0. ,   1. ,  69. ],\n",
       "       [104. ,   1. ,   0. ,   0. ,   0. ,   0. ,  56. ],\n",
       "       [ 99. ,   0. ,   0. ,   0. ,   0. ,   1. ,  14. ],\n",
       "       [103. ,   0. ,   0. ,   0. ,   1. ,   0. ,  48. ],\n",
       "       [101. ,   0. ,   0. ,   0. ,   0. ,   1. ,  19. ],\n",
       "       [101. ,   0. ,   0. ,   0. ,   1. ,   0. ,   8. ],\n",
       "       [ 98. ,   0. ,   0. ,   0. ,   0. ,   1. ,  65. ],\n",
       "       [104. ,   0. ,   0. ,   0. ,   0. ,   0. ,  18. ],\n",
       "       [ 98. ,   1. ,   0. ,   1. ,   0. ,   0. ,  40. ],\n",
       "       [ 98. ,   1. ,   1. ,   0. ,   0. ,   1. ,  23. ]])"
      ]
     },
     "execution_count": 22,
     "metadata": {},
     "output_type": "execute_result"
    }
   ],
   "source": [
    "transformer.fit_transform(x_train)"
   ]
  },
  {
   "cell_type": "code",
   "execution_count": 23,
   "id": "5a02d230-ab41-49be-ac38-641471a9ccda",
   "metadata": {},
   "outputs": [
    {
     "data": {
      "text/plain": [
       "array([[ 98.,   1.,   1.,   0.,   0.,   0.,  12.],\n",
       "       [ 99.,   1.,   1.,   0.,   0.,   0.,  66.],\n",
       "       [ 99.,   1.,   0.,   1.,   0.,   0.,  59.],\n",
       "       [103.,   0.,   0.,   0.,   1.,   0.,  69.],\n",
       "       [101.,   0.,   0.,   1.,   0.,   0.,  49.],\n",
       "       [101.,   0.,   0.,   0.,   0.,   0.,  38.],\n",
       "       [100.,   0.,   1.,   1.,   0.,   0.,  27.],\n",
       "       [102.,   1.,   0.,   1.,   0.,   0.,  33.],\n",
       "       [102.,   0.,   0.,   1.,   0.,   0.,  49.],\n",
       "       [ 99.,   0.,   0.,   0.,   0.,   1.,  60.],\n",
       "       [ 98.,   0.,   0.,   0.,   0.,   0.,  64.],\n",
       "       [104.,   0.,   0.,   0.,   1.,   0.,  17.],\n",
       "       [ 99.,   0.,   1.,   1.,   0.,   0.,  65.],\n",
       "       [101.,   0.,   0.,   0.,   1.,   0.,  83.],\n",
       "       [103.,   1.,   1.,   0.,   1.,   0.,  70.],\n",
       "       [ 99.,   1.,   0.,   0.,   1.,   0.,  25.],\n",
       "       [100.,   1.,   0.,   0.,   1.,   0.,  11.],\n",
       "       [103.,   0.,   0.,   1.,   0.,   0.,  73.],\n",
       "       [102.,   1.,   0.,   0.,   0.,   0.,  24.],\n",
       "       [100.,   1.,   0.,   0.,   1.,   0.,  13.]])"
      ]
     },
     "execution_count": 23,
     "metadata": {},
     "output_type": "execute_result"
    }
   ],
   "source": [
    "transformer.fit_transform(x_test)"
   ]
  },
  {
   "cell_type": "code",
   "execution_count": 24,
   "id": "afa74fb1-2a29-4737-af2c-27bbf08cb114",
   "metadata": {},
   "outputs": [
    {
     "data": {
      "text/plain": [
       "(20, 7)"
      ]
     },
     "execution_count": 24,
     "metadata": {},
     "output_type": "execute_result"
    }
   ],
   "source": [
    "transformer.fit_transform(x_test).shape"
   ]
  },
  {
   "cell_type": "code",
   "execution_count": null,
   "id": "b4f11f3a-8448-4b99-99b4-6d3093b34271",
   "metadata": {},
   "outputs": [],
   "source": []
  }
 ],
 "metadata": {
  "kernelspec": {
   "display_name": "Python 3 (ipykernel)",
   "language": "python",
   "name": "python3"
  },
  "language_info": {
   "codemirror_mode": {
    "name": "ipython",
    "version": 3
   },
   "file_extension": ".py",
   "mimetype": "text/x-python",
   "name": "python",
   "nbconvert_exporter": "python",
   "pygments_lexer": "ipython3",
   "version": "3.12.7"
  }
 },
 "nbformat": 4,
 "nbformat_minor": 5
}
