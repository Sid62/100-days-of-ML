{
 "cells": [
  {
   "cell_type": "code",
   "execution_count": null,
   "id": "a0cd84af-9d97-4fab-bab5-716630525092",
   "metadata": {},
   "outputs": [],
   "source": []
  }
 ],
 "metadata": {
  "kernelspec": {
   "display_name": "",
   "name": ""
  },
  "language_info": {
   "name": ""
  }
 },
 "nbformat": 4,
 "nbformat_minor": 5
}
