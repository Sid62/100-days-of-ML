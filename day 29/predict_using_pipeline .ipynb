{
 "cells": [
  {
   "cell_type": "code",
   "execution_count": 1,
   "id": "b19bd658-e256-4442-a943-3bf3ccc740f1",
   "metadata": {},
   "outputs": [],
   "source": [
    "import pickle\n",
    "import numpy as np"
   ]
  },
  {
   "cell_type": "code",
   "execution_count": 2,
   "id": "28763c7f-e1b3-4d42-8c80-874f42e29a51",
   "metadata": {},
   "outputs": [],
   "source": [
    "pipe=pickle.load(open('pipe.pk1','rb'))"
   ]
  },
  {
   "cell_type": "code",
   "execution_count": null,
   "id": "a2a07db3-bf64-4370-a988-8ffea22be323",
   "metadata": {},
   "outputs": [],
   "source": [
    "#assume user\n",
    "test_user = np.array([2,'male',31.0,0,0, 10.5, 'S'],dtype=object"
   ]
  }
 ],
 "metadata": {
  "kernelspec": {
   "display_name": "Python 3 (ipykernel)",
   "language": "python",
   "name": "python3"
  },
  "language_info": {
   "codemirror_mode": {
    "name": "ipython",
    "version": 3
   },
   "file_extension": ".py",
   "mimetype": "text/x-python",
   "name": "python",
   "nbconvert_exporter": "python",
   "pygments_lexer": "ipython3",
   "version": "3.12.7"
  }
 },
 "nbformat": 4,
 "nbformat_minor": 5
}
