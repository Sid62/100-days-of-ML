{
 "cells": [
  {
   "cell_type": "code",
   "execution_count": 3,
   "id": "37f2281e-4dba-4b3b-ae0b-df64db7445f6",
   "metadata": {},
   "outputs": [],
   "source": [
    "import pandas as pd\n",
    "import requests"
   ]
  },
  {
   "cell_type": "code",
   "execution_count": 9,
   "id": "81658020-664d-43c8-8ed9-81cde07f140c",
   "metadata": {},
   "outputs": [],
   "source": [
    "response=requests.get('http://www.omdbapi.com/?i=tt3896198&apikey=3f51674d')"
   ]
  },
  {
   "cell_type": "code",
   "execution_count": 11,
   "id": "ef36dc9c-1411-432d-922e-6413640c71c9",
   "metadata": {},
   "outputs": [
    {
     "data": {
      "text/plain": [
       "<Response [200]>"
      ]
     },
     "execution_count": 11,
     "metadata": {},
     "output_type": "execute_result"
    }
   ],
   "source": [
    "response"
   ]
  },
  {
   "cell_type": "code",
   "execution_count": 13,
   "id": "a81f0222-0759-4f38-bca7-e23ba9a3b6f2",
   "metadata": {},
   "outputs": [
    {
     "data": {
      "text/plain": [
       "{'Title': 'Guardians of the Galaxy Vol. 2',\n",
       " 'Year': '2017',\n",
       " 'Rated': 'PG-13',\n",
       " 'Released': '05 May 2017',\n",
       " 'Runtime': '136 min',\n",
       " 'Genre': 'Action, Adventure, Comedy',\n",
       " 'Director': 'James Gunn',\n",
       " 'Writer': 'James Gunn, Dan Abnett, Andy Lanning',\n",
       " 'Actors': 'Chris Pratt, Zoe Saldaña, Dave Bautista',\n",
       " 'Plot': \"The Guardians struggle to keep together as a team while dealing with their personal family issues, notably Star-Lord's encounter with his father, the ambitious celestial being Ego.\",\n",
       " 'Language': 'English',\n",
       " 'Country': 'United States',\n",
       " 'Awards': 'Nominated for 1 Oscar. 15 wins & 61 nominations total',\n",
       " 'Poster': 'https://m.media-amazon.com/images/M/MV5BNWE5MGI3MDctMmU5Ni00YzI2LWEzMTQtZGIyZDA5MzQzNDBhXkEyXkFqcGc@._V1_SX300.jpg',\n",
       " 'Ratings': [{'Source': 'Internet Movie Database', 'Value': '7.6/10'},\n",
       "  {'Source': 'Rotten Tomatoes', 'Value': '85%'},\n",
       "  {'Source': 'Metacritic', 'Value': '67/100'}],\n",
       " 'Metascore': '67',\n",
       " 'imdbRating': '7.6',\n",
       " 'imdbVotes': '788,570',\n",
       " 'imdbID': 'tt3896198',\n",
       " 'Type': 'movie',\n",
       " 'DVD': 'N/A',\n",
       " 'BoxOffice': '$389,813,101',\n",
       " 'Production': 'N/A',\n",
       " 'Website': 'N/A',\n",
       " 'Response': 'True'}"
      ]
     },
     "execution_count": 13,
     "metadata": {},
     "output_type": "execute_result"
    }
   ],
   "source": [
    "response.json()"
   ]
  },
  {
   "cell_type": "code",
   "execution_count": 21,
   "id": "63232b78-a332-4def-8c38-7dad57aa4664",
   "metadata": {},
   "outputs": [
    {
     "data": {
      "text/html": [
       "<div>\n",
       "<style scoped>\n",
       "    .dataframe tbody tr th:only-of-type {\n",
       "        vertical-align: middle;\n",
       "    }\n",
       "\n",
       "    .dataframe tbody tr th {\n",
       "        vertical-align: top;\n",
       "    }\n",
       "\n",
       "    .dataframe thead th {\n",
       "        text-align: right;\n",
       "    }\n",
       "</style>\n",
       "<table border=\"1\" class=\"dataframe\">\n",
       "  <thead>\n",
       "    <tr style=\"text-align: right;\">\n",
       "      <th></th>\n",
       "      <th>Title</th>\n",
       "      <th>Year</th>\n",
       "      <th>Rated</th>\n",
       "      <th>Released</th>\n",
       "      <th>Runtime</th>\n",
       "      <th>Genre</th>\n",
       "      <th>Director</th>\n",
       "      <th>Writer</th>\n",
       "      <th>Actors</th>\n",
       "      <th>Plot</th>\n",
       "      <th>...</th>\n",
       "      <th>Metascore</th>\n",
       "      <th>imdbRating</th>\n",
       "      <th>imdbVotes</th>\n",
       "      <th>imdbID</th>\n",
       "      <th>Type</th>\n",
       "      <th>DVD</th>\n",
       "      <th>BoxOffice</th>\n",
       "      <th>Production</th>\n",
       "      <th>Website</th>\n",
       "      <th>Response</th>\n",
       "    </tr>\n",
       "  </thead>\n",
       "  <tbody>\n",
       "    <tr>\n",
       "      <th>0</th>\n",
       "      <td>Guardians of the Galaxy Vol. 2</td>\n",
       "      <td>2017</td>\n",
       "      <td>PG-13</td>\n",
       "      <td>05 May 2017</td>\n",
       "      <td>136 min</td>\n",
       "      <td>Action, Adventure, Comedy</td>\n",
       "      <td>James Gunn</td>\n",
       "      <td>James Gunn, Dan Abnett, Andy Lanning</td>\n",
       "      <td>Chris Pratt, Zoe Saldaña, Dave Bautista</td>\n",
       "      <td>The Guardians struggle to keep together as a t...</td>\n",
       "      <td>...</td>\n",
       "      <td>67</td>\n",
       "      <td>7.6</td>\n",
       "      <td>788,570</td>\n",
       "      <td>tt3896198</td>\n",
       "      <td>movie</td>\n",
       "      <td>N/A</td>\n",
       "      <td>$389,813,101</td>\n",
       "      <td>N/A</td>\n",
       "      <td>N/A</td>\n",
       "      <td>True</td>\n",
       "    </tr>\n",
       "    <tr>\n",
       "      <th>1</th>\n",
       "      <td>Guardians of the Galaxy Vol. 2</td>\n",
       "      <td>2017</td>\n",
       "      <td>PG-13</td>\n",
       "      <td>05 May 2017</td>\n",
       "      <td>136 min</td>\n",
       "      <td>Action, Adventure, Comedy</td>\n",
       "      <td>James Gunn</td>\n",
       "      <td>James Gunn, Dan Abnett, Andy Lanning</td>\n",
       "      <td>Chris Pratt, Zoe Saldaña, Dave Bautista</td>\n",
       "      <td>The Guardians struggle to keep together as a t...</td>\n",
       "      <td>...</td>\n",
       "      <td>67</td>\n",
       "      <td>7.6</td>\n",
       "      <td>788,570</td>\n",
       "      <td>tt3896198</td>\n",
       "      <td>movie</td>\n",
       "      <td>N/A</td>\n",
       "      <td>$389,813,101</td>\n",
       "      <td>N/A</td>\n",
       "      <td>N/A</td>\n",
       "      <td>True</td>\n",
       "    </tr>\n",
       "    <tr>\n",
       "      <th>2</th>\n",
       "      <td>Guardians of the Galaxy Vol. 2</td>\n",
       "      <td>2017</td>\n",
       "      <td>PG-13</td>\n",
       "      <td>05 May 2017</td>\n",
       "      <td>136 min</td>\n",
       "      <td>Action, Adventure, Comedy</td>\n",
       "      <td>James Gunn</td>\n",
       "      <td>James Gunn, Dan Abnett, Andy Lanning</td>\n",
       "      <td>Chris Pratt, Zoe Saldaña, Dave Bautista</td>\n",
       "      <td>The Guardians struggle to keep together as a t...</td>\n",
       "      <td>...</td>\n",
       "      <td>67</td>\n",
       "      <td>7.6</td>\n",
       "      <td>788,570</td>\n",
       "      <td>tt3896198</td>\n",
       "      <td>movie</td>\n",
       "      <td>N/A</td>\n",
       "      <td>$389,813,101</td>\n",
       "      <td>N/A</td>\n",
       "      <td>N/A</td>\n",
       "      <td>True</td>\n",
       "    </tr>\n",
       "  </tbody>\n",
       "</table>\n",
       "<p>3 rows × 25 columns</p>\n",
       "</div>"
      ],
      "text/plain": [
       "                            Title  Year  Rated     Released  Runtime  \\\n",
       "0  Guardians of the Galaxy Vol. 2  2017  PG-13  05 May 2017  136 min   \n",
       "1  Guardians of the Galaxy Vol. 2  2017  PG-13  05 May 2017  136 min   \n",
       "2  Guardians of the Galaxy Vol. 2  2017  PG-13  05 May 2017  136 min   \n",
       "\n",
       "                       Genre    Director  \\\n",
       "0  Action, Adventure, Comedy  James Gunn   \n",
       "1  Action, Adventure, Comedy  James Gunn   \n",
       "2  Action, Adventure, Comedy  James Gunn   \n",
       "\n",
       "                                 Writer  \\\n",
       "0  James Gunn, Dan Abnett, Andy Lanning   \n",
       "1  James Gunn, Dan Abnett, Andy Lanning   \n",
       "2  James Gunn, Dan Abnett, Andy Lanning   \n",
       "\n",
       "                                    Actors  \\\n",
       "0  Chris Pratt, Zoe Saldaña, Dave Bautista   \n",
       "1  Chris Pratt, Zoe Saldaña, Dave Bautista   \n",
       "2  Chris Pratt, Zoe Saldaña, Dave Bautista   \n",
       "\n",
       "                                                Plot  ... Metascore  \\\n",
       "0  The Guardians struggle to keep together as a t...  ...        67   \n",
       "1  The Guardians struggle to keep together as a t...  ...        67   \n",
       "2  The Guardians struggle to keep together as a t...  ...        67   \n",
       "\n",
       "  imdbRating imdbVotes     imdbID   Type  DVD     BoxOffice Production  \\\n",
       "0        7.6   788,570  tt3896198  movie  N/A  $389,813,101        N/A   \n",
       "1        7.6   788,570  tt3896198  movie  N/A  $389,813,101        N/A   \n",
       "2        7.6   788,570  tt3896198  movie  N/A  $389,813,101        N/A   \n",
       "\n",
       "  Website Response  \n",
       "0     N/A     True  \n",
       "1     N/A     True  \n",
       "2     N/A     True  \n",
       "\n",
       "[3 rows x 25 columns]"
      ]
     },
     "execution_count": 21,
     "metadata": {},
     "output_type": "execute_result"
    }
   ],
   "source": [
    "pd.DataFrame(response.json())"
   ]
  },
  {
   "cell_type": "code",
   "execution_count": 23,
   "id": "20402a7e-03f3-46d9-8074-a616bc804582",
   "metadata": {},
   "outputs": [
    {
     "data": {
      "text/html": [
       "<div>\n",
       "<style scoped>\n",
       "    .dataframe tbody tr th:only-of-type {\n",
       "        vertical-align: middle;\n",
       "    }\n",
       "\n",
       "    .dataframe tbody tr th {\n",
       "        vertical-align: top;\n",
       "    }\n",
       "\n",
       "    .dataframe thead th {\n",
       "        text-align: right;\n",
       "    }\n",
       "</style>\n",
       "<table border=\"1\" class=\"dataframe\">\n",
       "  <thead>\n",
       "    <tr style=\"text-align: right;\">\n",
       "      <th></th>\n",
       "      <th>Title</th>\n",
       "      <th>Year</th>\n",
       "      <th>Rated</th>\n",
       "      <th>Genre</th>\n",
       "      <th>Writer</th>\n",
       "      <th>Plot</th>\n",
       "      <th>Type</th>\n",
       "      <th>DVD</th>\n",
       "    </tr>\n",
       "  </thead>\n",
       "  <tbody>\n",
       "    <tr>\n",
       "      <th>0</th>\n",
       "      <td>Guardians of the Galaxy Vol. 2</td>\n",
       "      <td>2017</td>\n",
       "      <td>PG-13</td>\n",
       "      <td>Action, Adventure, Comedy</td>\n",
       "      <td>James Gunn, Dan Abnett, Andy Lanning</td>\n",
       "      <td>The Guardians struggle to keep together as a t...</td>\n",
       "      <td>movie</td>\n",
       "      <td>N/A</td>\n",
       "    </tr>\n",
       "    <tr>\n",
       "      <th>1</th>\n",
       "      <td>Guardians of the Galaxy Vol. 2</td>\n",
       "      <td>2017</td>\n",
       "      <td>PG-13</td>\n",
       "      <td>Action, Adventure, Comedy</td>\n",
       "      <td>James Gunn, Dan Abnett, Andy Lanning</td>\n",
       "      <td>The Guardians struggle to keep together as a t...</td>\n",
       "      <td>movie</td>\n",
       "      <td>N/A</td>\n",
       "    </tr>\n",
       "    <tr>\n",
       "      <th>2</th>\n",
       "      <td>Guardians of the Galaxy Vol. 2</td>\n",
       "      <td>2017</td>\n",
       "      <td>PG-13</td>\n",
       "      <td>Action, Adventure, Comedy</td>\n",
       "      <td>James Gunn, Dan Abnett, Andy Lanning</td>\n",
       "      <td>The Guardians struggle to keep together as a t...</td>\n",
       "      <td>movie</td>\n",
       "      <td>N/A</td>\n",
       "    </tr>\n",
       "  </tbody>\n",
       "</table>\n",
       "</div>"
      ],
      "text/plain": [
       "                            Title  Year  Rated                      Genre  \\\n",
       "0  Guardians of the Galaxy Vol. 2  2017  PG-13  Action, Adventure, Comedy   \n",
       "1  Guardians of the Galaxy Vol. 2  2017  PG-13  Action, Adventure, Comedy   \n",
       "2  Guardians of the Galaxy Vol. 2  2017  PG-13  Action, Adventure, Comedy   \n",
       "\n",
       "                                 Writer  \\\n",
       "0  James Gunn, Dan Abnett, Andy Lanning   \n",
       "1  James Gunn, Dan Abnett, Andy Lanning   \n",
       "2  James Gunn, Dan Abnett, Andy Lanning   \n",
       "\n",
       "                                                Plot   Type  DVD  \n",
       "0  The Guardians struggle to keep together as a t...  movie  N/A  \n",
       "1  The Guardians struggle to keep together as a t...  movie  N/A  \n",
       "2  The Guardians struggle to keep together as a t...  movie  N/A  "
      ]
     },
     "execution_count": 23,
     "metadata": {},
     "output_type": "execute_result"
    }
   ],
   "source": [
    "pd.DataFrame(response.json())[['Title','Year','Rated','Genre','Writer','Plot','Type','DVD']]"
   ]
  },
  {
   "cell_type": "code",
   "execution_count": 27,
   "id": "62c5b430-65b5-4405-92f6-570d3fb15b58",
   "metadata": {},
   "outputs": [],
   "source": [
    "df=pd.DataFrame()"
   ]
  },
  {
   "cell_type": "code",
   "execution_count": 29,
   "id": "ccffa20e-918c-4398-adbd-5d51f9e03ed2",
   "metadata": {},
   "outputs": [
    {
     "data": {
      "text/html": [
       "<div>\n",
       "<style scoped>\n",
       "    .dataframe tbody tr th:only-of-type {\n",
       "        vertical-align: middle;\n",
       "    }\n",
       "\n",
       "    .dataframe tbody tr th {\n",
       "        vertical-align: top;\n",
       "    }\n",
       "\n",
       "    .dataframe thead th {\n",
       "        text-align: right;\n",
       "    }\n",
       "</style>\n",
       "<table border=\"1\" class=\"dataframe\">\n",
       "  <thead>\n",
       "    <tr style=\"text-align: right;\">\n",
       "      <th></th>\n",
       "    </tr>\n",
       "  </thead>\n",
       "  <tbody>\n",
       "  </tbody>\n",
       "</table>\n",
       "</div>"
      ],
      "text/plain": [
       "Empty DataFrame\n",
       "Columns: []\n",
       "Index: []"
      ]
     },
     "execution_count": 29,
     "metadata": {},
     "output_type": "execute_result"
    }
   ],
   "source": [
    "df"
   ]
  },
  {
   "cell_type": "code",
   "execution_count": 56,
   "id": "c12927d8-a250-432d-ac87-5139a846db9b",
   "metadata": {},
   "outputs": [
    {
     "name": "stdout",
     "output_type": "stream",
     "text": [
      "                            Title  Year  Rated     Released  Runtime  \\\n",
      "0  Guardians of the Galaxy Vol. 2  2017  PG-13  05 May 2017  136 min   \n",
      "1  Guardians of the Galaxy Vol. 2  2017  PG-13  05 May 2017  136 min   \n",
      "2  Guardians of the Galaxy Vol. 2  2017  PG-13  05 May 2017  136 min   \n",
      "3  Guardians of the Galaxy Vol. 2  2017  PG-13  05 May 2017  136 min   \n",
      "4  Guardians of the Galaxy Vol. 2  2017  PG-13  05 May 2017  136 min   \n",
      "\n",
      "                       Genre    Director  \\\n",
      "0  Action, Adventure, Comedy  James Gunn   \n",
      "1  Action, Adventure, Comedy  James Gunn   \n",
      "2  Action, Adventure, Comedy  James Gunn   \n",
      "3  Action, Adventure, Comedy  James Gunn   \n",
      "4  Action, Adventure, Comedy  James Gunn   \n",
      "\n",
      "                                 Writer  \\\n",
      "0  James Gunn, Dan Abnett, Andy Lanning   \n",
      "1  James Gunn, Dan Abnett, Andy Lanning   \n",
      "2  James Gunn, Dan Abnett, Andy Lanning   \n",
      "3  James Gunn, Dan Abnett, Andy Lanning   \n",
      "4  James Gunn, Dan Abnett, Andy Lanning   \n",
      "\n",
      "                                    Actors  \\\n",
      "0  Chris Pratt, Zoe Saldaña, Dave Bautista   \n",
      "1  Chris Pratt, Zoe Saldaña, Dave Bautista   \n",
      "2  Chris Pratt, Zoe Saldaña, Dave Bautista   \n",
      "3  Chris Pratt, Zoe Saldaña, Dave Bautista   \n",
      "4  Chris Pratt, Zoe Saldaña, Dave Bautista   \n",
      "\n",
      "                                                Plot  ... Metascore  \\\n",
      "0  The Guardians struggle to keep together as a t...  ...        67   \n",
      "1  The Guardians struggle to keep together as a t...  ...        67   \n",
      "2  The Guardians struggle to keep together as a t...  ...        67   \n",
      "3  The Guardians struggle to keep together as a t...  ...        67   \n",
      "4  The Guardians struggle to keep together as a t...  ...        67   \n",
      "\n",
      "  imdbRating imdbVotes     imdbID   Type  DVD     BoxOffice Production  \\\n",
      "0        7.6   788,570  tt3896198  movie  N/A  $389,813,101        N/A   \n",
      "1        7.6   788,570  tt3896198  movie  N/A  $389,813,101        N/A   \n",
      "2        7.6   788,570  tt3896198  movie  N/A  $389,813,101        N/A   \n",
      "3        7.6   788,570  tt3896198  movie  N/A  $389,813,101        N/A   \n",
      "4        7.6   788,570  tt3896198  movie  N/A  $389,813,101        N/A   \n",
      "\n",
      "  Website Response  \n",
      "0     N/A     True  \n",
      "1     N/A     True  \n",
      "2     N/A     True  \n",
      "3     N/A     True  \n",
      "4     N/A     True  \n",
      "\n",
      "[5 rows x 25 columns]\n"
     ]
    }
   ],
   "source": [
    "df = []  # Use a list to collect DataFrames\n",
    "\n",
    "for i in range(1, 100):\n",
    "    url = f\"http://www.omdbapi.com/?i=tt3896198&apikey=3f51674d\"\n",
    "    response = requests.get(url)\n",
    "    data = response.json()\n",
    "    temp_df = pd.DataFrame([data])  # Wrap in list to make it 1-row DataFrame\n",
    "    df.append(temp_df)\n",
    "\n",
    "# Concatenate all DataFrames into one\n",
    "final_df = pd.concat(df, ignore_index=True)\n",
    "\n",
    "print(final_df.head())"
   ]
  },
  {
   "cell_type": "code",
   "execution_count": 58,
   "id": "ad691df3-1e99-4010-91fd-f55be0a8262b",
   "metadata": {},
   "outputs": [
    {
     "data": {
      "text/plain": [
       "(99, 25)"
      ]
     },
     "execution_count": 58,
     "metadata": {},
     "output_type": "execute_result"
    }
   ],
   "source": [
    "final_df.shape"
   ]
  },
  {
   "cell_type": "code",
   "execution_count": 53,
   "id": "cfdbfd56-9cc6-446d-8d64-d4411aaa8f31",
   "metadata": {},
   "outputs": [
    {
     "name": "stdout",
     "output_type": "stream",
     "text": [
      "                            Title  Year  Rated     Released  Runtime  \\\n",
      "0  Guardians of the Galaxy Vol. 2  2017  PG-13  05 May 2017  136 min   \n",
      "1  Guardians of the Galaxy Vol. 2  2017  PG-13  05 May 2017  136 min   \n",
      "2  Guardians of the Galaxy Vol. 2  2017  PG-13  05 May 2017  136 min   \n",
      "3  Guardians of the Galaxy Vol. 2  2017  PG-13  05 May 2017  136 min   \n",
      "4  Guardians of the Galaxy Vol. 2  2017  PG-13  05 May 2017  136 min   \n",
      "\n",
      "                       Genre    Director  \\\n",
      "0  Action, Adventure, Comedy  James Gunn   \n",
      "1  Action, Adventure, Comedy  James Gunn   \n",
      "2  Action, Adventure, Comedy  James Gunn   \n",
      "3  Action, Adventure, Comedy  James Gunn   \n",
      "4  Action, Adventure, Comedy  James Gunn   \n",
      "\n",
      "                                 Writer  \\\n",
      "0  James Gunn, Dan Abnett, Andy Lanning   \n",
      "1  James Gunn, Dan Abnett, Andy Lanning   \n",
      "2  James Gunn, Dan Abnett, Andy Lanning   \n",
      "3  James Gunn, Dan Abnett, Andy Lanning   \n",
      "4  James Gunn, Dan Abnett, Andy Lanning   \n",
      "\n",
      "                                    Actors  \\\n",
      "0  Chris Pratt, Zoe Saldaña, Dave Bautista   \n",
      "1  Chris Pratt, Zoe Saldaña, Dave Bautista   \n",
      "2  Chris Pratt, Zoe Saldaña, Dave Bautista   \n",
      "3  Chris Pratt, Zoe Saldaña, Dave Bautista   \n",
      "4  Chris Pratt, Zoe Saldaña, Dave Bautista   \n",
      "\n",
      "                                                Plot  ... Metascore  \\\n",
      "0  The Guardians struggle to keep together as a t...  ...        67   \n",
      "1  The Guardians struggle to keep together as a t...  ...        67   \n",
      "2  The Guardians struggle to keep together as a t...  ...        67   \n",
      "3  The Guardians struggle to keep together as a t...  ...        67   \n",
      "4  The Guardians struggle to keep together as a t...  ...        67   \n",
      "\n",
      "  imdbRating imdbVotes     imdbID   Type  DVD     BoxOffice Production  \\\n",
      "0        7.6   788,570  tt3896198  movie  N/A  $389,813,101        N/A   \n",
      "1        7.6   788,570  tt3896198  movie  N/A  $389,813,101        N/A   \n",
      "2        7.6   788,570  tt3896198  movie  N/A  $389,813,101        N/A   \n",
      "3        7.6   788,570  tt3896198  movie  N/A  $389,813,101        N/A   \n",
      "4        7.6   788,570  tt3896198  movie  N/A  $389,813,101        N/A   \n",
      "\n",
      "  Website Response  \n",
      "0     N/A     True  \n",
      "1     N/A     True  \n",
      "2     N/A     True  \n",
      "3     N/A     True  \n",
      "4     N/A     True  \n",
      "\n",
      "[5 rows x 25 columns]\n"
     ]
    }
   ],
   "source": []
  },
  {
   "cell_type": "code",
   "execution_count": 63,
   "id": "6a2f3241-70fb-4d1d-85da-d762d7dc5b4f",
   "metadata": {},
   "outputs": [],
   "source": [
    "final_df = pd.concat(df, ignore_index=True)\n",
    "final_df.to_csv('movies.csv', index=False)"
   ]
  },
  {
   "cell_type": "code",
   "execution_count": null,
   "id": "d278bfc4-35d0-4300-aedc-295103d6f581",
   "metadata": {},
   "outputs": [],
   "source": []
  }
 ],
 "metadata": {
  "kernelspec": {
   "display_name": "Python [conda env:base] *",
   "language": "python",
   "name": "conda-base-py"
  },
  "language_info": {
   "codemirror_mode": {
    "name": "ipython",
    "version": 3
   },
   "file_extension": ".py",
   "mimetype": "text/x-python",
   "name": "python",
   "nbconvert_exporter": "python",
   "pygments_lexer": "ipython3",
   "version": "3.12.3"
  }
 },
 "nbformat": 4,
 "nbformat_minor": 5
}
